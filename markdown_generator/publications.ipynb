{
 "cells": [
  {
   "cell_type": "markdown",
   "metadata": {},
   "source": [
    "# Publications markdown generator for academicpages\n",
    "\n",
    "Takes a TSV of publications with metadata and converts them for use with [academicpages.github.io](academicpages.github.io). This is an interactive Jupyter notebook ([see more info here](http://jupyter-notebook-beginner-guide.readthedocs.io/en/latest/what_is_jupyter.html)). The core python code is also in `publications.py`. Run either from the `markdown_generator` folder after replacing `publications.tsv` with one containing your data.\n",
    "\n",
    "TODO: Make this work with BibTex and other databases of citations, rather than Stuart's non-standard TSV format and citation style.\n"
   ]
  },
  {
   "cell_type": "markdown",
   "metadata": {},
   "source": [
    "## Data format\n",
    "\n",
    "The TSV needs to have the following columns: pub_date, title, venue, excerpt, citation, site_url, and paper_url, with a header at the top. \n",
    "\n",
    "- `excerpt` and `paper_url` can be blank, but the others must have values. \n",
    "- `pub_date` must be formatted as YYYY-MM-DD.\n",
    "- `url_slug` will be the descriptive part of the .md file and the permalink URL for the page about the paper. The .md file will be `YYYY-MM-DD-[url_slug].md` and the permalink will be `https://[yourdomain]/publications/YYYY-MM-DD-[url_slug]`\n",
    "\n",
    "This is how the raw file looks (it doesn't look pretty, use a spreadsheet or other program to edit and create)."
   ]
  },
  {
   "cell_type": "code",
   "execution_count": 10,
   "metadata": {},
   "outputs": [
    {
     "name": "stdout",
     "output_type": "stream",
     "text": [
      "﻿pub_date,title,venue,exerpt,citation,url_slug,paper_url,slides_url\r",
      "\r\n",
      "2024-06-03,Inferring interaction potentials from stochastic particle trajectories,In review at Physical Review Research,,\"Ella M. King, Megan Engel, Caroline Martin, Sam Schoenholz, Vinothan N. Manoharan, and Michael Brenner.  In review at Physical Review Research. “Inferring interaction potentials from stochastic particle trajectories”.\",inferring-potentials,,http://carolinesmartin.github.io/files/inferring-potentials.pdf\r",
      "\r\n",
      "2023-09-20,Precise characterization of nanometer-scale systems using interferometric scattering microscopy and Bayesian analysis,Applied Optics,,\"Xander M. de Wit, Amelia W. Paine, Caroline Martin, Aaron M. Goldfain, Rees F. Garmann, and Vinothan N. Manoharan. 9/20/2023. “Precise characterization of nanometer-scale systems using interferometric scattering microscopy and Bayesian analysis.” Applied Optics, 62, 27.\",iscat,,http://carolinesmartin.github.io/files/iscat.pdf\r",
      "\r\n",
      "2023-05-15,WOW STEM: Addressing the STEM gender gap with accessible educational content,\"American Philosophical Society, Women in Science: Achievements and Barriers\",,\"Caroline Martin, Madelyn Leembruggen, and Taylor Contreras. 5/15/2023. “WOW STEM: Addressing the STEM gender gap with accessible educational content.” American Philosophical Society, Women in Science: Achievements and Barriers.\",wow-stem,,http://carolinesmartin.github.io/files/wow-stem.pdf\r",
      "\r\n",
      "2022-10-22,In-line holographic microscopy with model-based analysis,Nature Reviews Methods Primers,,\"Caroline Martin, Lauren E. Altman, Siddharth Rawat, Anna Wang, David G. Grier, and Vinothan N. Manoharan. 10/22/2022. “In-line holographic microscopy with model-based analysis .” Nature Reviews Methods Primers, 2, 83.\",in-line-holographic-microscopy,,http://carolinesmartin.github.io/files/in-line-holographic-microscopy.pdf\r",
      "\r\n",
      "2022-04-01,What’s for Lunch? A systematic ordering of foods in the Soup-Salad-Sandwich phase space,arXiv.org,,Madelyn Leembruggen and Caroline Martin. 4/1/2022. “What’s for Lunch? A systematic ordering of foods in the Soup-Salad-Sandwich phase space”.,whats-for-lunch,,http://carolinesmartin.github.io/files/whats-for-lunch.pdf\r",
      "\r\n",
      "2021-06-07,Improving holographic particle characterization by modeling spherical aberration,Optics Express,,\"Caroline Martin, Brian Leahy, and Vinothan N. Manoharan. 2021. “Improving holographic particle characterization by modeling spherical aberration.” Opt. Express, 29, 12, Pp. 18212–18223.\",spherical-aberration,,http://carolinesmartin.github.io/files/spherical-aberration.pdf\r",
      "\r\n",
      "2020-01-20,Large depth-of-field tracking of colloidal spheres in holographic microscopy by modeling the objective lens,Optics Express,,\"Brian Leahy, Ronald Alexander, Caroline Martin, Solomon Barkley, and Vinothan Manoharan. 1/2020. “Large depth-of-field tracking of colloidal spheres in holographic microscopy by modeling the objective lens.” Optics Express, 28, 2, Pp. 1061-1075.\",modelling-objective,,http://carolinesmartin.github.io/files/modelling-objective.pdf\r",
      "\r\n",
      "2018-04-20,Application of Bayesian Inference to Analysis of Dynamic Light Scattering Data to Determine Particle Size Distributions,Wellesley College,,Caroline Martin. 6/5/2018. “Application of Bayesian Inference to Analysis of Dynamic Light Scattering Data to Determine Particle Size Distributions.” Wellesley College Department of Physics.,bayesian-dls,,http://carolinesmartin.github.io/files/bayesian-dls.pdf\r",
      "\r\n",
      ",,,,,,,\r",
      "\r\n",
      ",,,,,,,\r",
      "\r\n",
      ",,,,,,,\r",
      "\r\n",
      ",,,,,,,\r",
      "\r\n",
      ",,,,,,,\r",
      "\r\n",
      ",,,,,,,"
     ]
    }
   ],
   "source": [
    "!cat publications.csv"
   ]
  },
  {
   "cell_type": "code",
   "execution_count": 10,
   "metadata": {},
   "outputs": [
    {
     "name": "stdout",
     "output_type": "stream",
     "text": [
      "pub_date\ttitle\tvenue\texcerpt\tcitation\turl_slug\tpaper_url\tslides_url\n",
      "2009-10-01\tPaper Title Number 1\tJournal 1\tThis paper is about the number 1. The number 2 is left for future work.\tYour Name, You. (2009). \"Paper Title Number 1.\" <i>Journal 1</i>. 1(1).\tpaper-title-number-1\thttp://academicpages.github.io/files/paper1.pdf\thttp://academicpages.github.io/files/slides1.pdf\n",
      "2010-10-01\tPaper Title Number 2\tJournal 1\tThis paper is about the number 2. The number 3 is left for future work.\tYour Name, You. (2010). \"Paper Title Number 2.\" <i>Journal 1</i>. 1(2).\tpaper-title-number-2\thttp://academicpages.github.io/files/paper2.pdf\thttp://academicpages.github.io/files/slides2.pdf\n",
      "2015-10-01\tPaper Title Number 3\tJournal 1\tThis paper is about the number 3. The number 4 is left for future work.\tYour Name, You. (2015). \"Paper Title Number 3.\" <i>Journal 1</i>. 1(3).\tpaper-title-number-3\thttp://academicpages.github.io/files/paper3.pdf\thttp://academicpages.github.io/files/slides3.pdf"
     ]
    }
   ],
   "source": [
    "!cat publications."
   ]
  },
  {
   "cell_type": "markdown",
   "metadata": {},
   "source": [
    "## Import pandas\n",
    "\n",
    "We are using the very handy pandas library for dataframes."
   ]
  },
  {
   "cell_type": "code",
   "execution_count": 5,
   "metadata": {},
   "outputs": [],
   "source": [
    "import pandas as pd"
   ]
  },
  {
   "cell_type": "markdown",
   "metadata": {},
   "source": [
    "## Import TSV\n",
    "\n",
    "Pandas makes this easy with the read_csv function. We are using a TSV, so we specify the separator as a tab, or `\\t`.\n",
    "\n",
    "I found it important to put this data in a tab-separated values format, because there are a lot of commas in this kind of data and comma-separated values can get messed up. However, you can modify the import statement, as pandas also has read_excel(), read_json(), and others."
   ]
  },
  {
   "cell_type": "code",
   "execution_count": 11,
   "metadata": {},
   "outputs": [
    {
     "data": {
      "text/html": [
       "<div>\n",
       "<style scoped>\n",
       "    .dataframe tbody tr th:only-of-type {\n",
       "        vertical-align: middle;\n",
       "    }\n",
       "\n",
       "    .dataframe tbody tr th {\n",
       "        vertical-align: top;\n",
       "    }\n",
       "\n",
       "    .dataframe thead th {\n",
       "        text-align: right;\n",
       "    }\n",
       "</style>\n",
       "<table border=\"1\" class=\"dataframe\">\n",
       "  <thead>\n",
       "    <tr style=\"text-align: right;\">\n",
       "      <th></th>\n",
       "      <th>pub_date</th>\n",
       "      <th>title</th>\n",
       "      <th>venue</th>\n",
       "      <th>exerpt</th>\n",
       "      <th>citation</th>\n",
       "      <th>url_slug</th>\n",
       "      <th>paper_url</th>\n",
       "      <th>slides_url</th>\n",
       "    </tr>\n",
       "  </thead>\n",
       "  <tbody>\n",
       "    <tr>\n",
       "      <th>0</th>\n",
       "      <td>2024-06-03</td>\n",
       "      <td>Inferring interaction potentials from stochast...</td>\n",
       "      <td>In review at Physical Review Research</td>\n",
       "      <td>NaN</td>\n",
       "      <td>Ella M. King, Megan Engel, Caroline Martin, Sa...</td>\n",
       "      <td>inferring-potentials</td>\n",
       "      <td>NaN</td>\n",
       "      <td>http://carolinesmartin.github.io/files/inferri...</td>\n",
       "    </tr>\n",
       "    <tr>\n",
       "      <th>1</th>\n",
       "      <td>2023-09-20</td>\n",
       "      <td>Precise characterization of nanometer-scale sy...</td>\n",
       "      <td>Applied Optics</td>\n",
       "      <td>NaN</td>\n",
       "      <td>Xander M. de Wit, Amelia W. Paine, Caroline Ma...</td>\n",
       "      <td>iscat</td>\n",
       "      <td>NaN</td>\n",
       "      <td>http://carolinesmartin.github.io/files/iscat.pdf</td>\n",
       "    </tr>\n",
       "    <tr>\n",
       "      <th>2</th>\n",
       "      <td>2023-05-15</td>\n",
       "      <td>WOW STEM: Addressing the STEM gender gap with ...</td>\n",
       "      <td>American Philosophical Society, Women in Scien...</td>\n",
       "      <td>NaN</td>\n",
       "      <td>Caroline Martin, Madelyn Leembruggen, and Tayl...</td>\n",
       "      <td>wow-stem</td>\n",
       "      <td>NaN</td>\n",
       "      <td>http://carolinesmartin.github.io/files/wow-ste...</td>\n",
       "    </tr>\n",
       "    <tr>\n",
       "      <th>3</th>\n",
       "      <td>2022-10-22</td>\n",
       "      <td>In-line holographic microscopy with model-base...</td>\n",
       "      <td>Nature Reviews Methods Primers</td>\n",
       "      <td>NaN</td>\n",
       "      <td>Caroline Martin, Lauren E. Altman, Siddharth R...</td>\n",
       "      <td>in-line-holographic-microscopy</td>\n",
       "      <td>NaN</td>\n",
       "      <td>http://carolinesmartin.github.io/files/in-line...</td>\n",
       "    </tr>\n",
       "    <tr>\n",
       "      <th>4</th>\n",
       "      <td>2022-04-01</td>\n",
       "      <td>What’s for Lunch? A systematic ordering of foo...</td>\n",
       "      <td>arXiv.org</td>\n",
       "      <td>NaN</td>\n",
       "      <td>Madelyn Leembruggen and Caroline Martin. 4/1/2...</td>\n",
       "      <td>whats-for-lunch</td>\n",
       "      <td>NaN</td>\n",
       "      <td>http://carolinesmartin.github.io/files/whats-f...</td>\n",
       "    </tr>\n",
       "    <tr>\n",
       "      <th>5</th>\n",
       "      <td>2021-06-07</td>\n",
       "      <td>Improving holographic particle characterizatio...</td>\n",
       "      <td>Optics Express</td>\n",
       "      <td>NaN</td>\n",
       "      <td>Caroline Martin, Brian Leahy, and Vinothan N. ...</td>\n",
       "      <td>spherical-aberration</td>\n",
       "      <td>NaN</td>\n",
       "      <td>http://carolinesmartin.github.io/files/spheric...</td>\n",
       "    </tr>\n",
       "    <tr>\n",
       "      <th>6</th>\n",
       "      <td>2020-01-20</td>\n",
       "      <td>Large depth-of-field tracking of colloidal sph...</td>\n",
       "      <td>Optics Express</td>\n",
       "      <td>NaN</td>\n",
       "      <td>Brian Leahy, Ronald Alexander, Caroline Martin...</td>\n",
       "      <td>modelling-objective</td>\n",
       "      <td>NaN</td>\n",
       "      <td>http://carolinesmartin.github.io/files/modelli...</td>\n",
       "    </tr>\n",
       "    <tr>\n",
       "      <th>7</th>\n",
       "      <td>2018-04-20</td>\n",
       "      <td>Application of Bayesian Inference to Analysis ...</td>\n",
       "      <td>Wellesley College</td>\n",
       "      <td>NaN</td>\n",
       "      <td>Caroline Martin. 6/5/2018. “Application of Bay...</td>\n",
       "      <td>bayesian-dls</td>\n",
       "      <td>NaN</td>\n",
       "      <td>http://carolinesmartin.github.io/files/bayesia...</td>\n",
       "    </tr>\n",
       "  </tbody>\n",
       "</table>\n",
       "</div>"
      ],
      "text/plain": [
       "     pub_date                                              title  \\\n",
       "0  2024-06-03  Inferring interaction potentials from stochast...   \n",
       "1  2023-09-20  Precise characterization of nanometer-scale sy...   \n",
       "2  2023-05-15  WOW STEM: Addressing the STEM gender gap with ...   \n",
       "3  2022-10-22  In-line holographic microscopy with model-base...   \n",
       "4  2022-04-01  What’s for Lunch? A systematic ordering of foo...   \n",
       "5  2021-06-07  Improving holographic particle characterizatio...   \n",
       "6  2020-01-20  Large depth-of-field tracking of colloidal sph...   \n",
       "7  2018-04-20  Application of Bayesian Inference to Analysis ...   \n",
       "\n",
       "                                               venue  exerpt  \\\n",
       "0              In review at Physical Review Research     NaN   \n",
       "1                                     Applied Optics     NaN   \n",
       "2  American Philosophical Society, Women in Scien...     NaN   \n",
       "3                     Nature Reviews Methods Primers     NaN   \n",
       "4                                          arXiv.org     NaN   \n",
       "5                                     Optics Express     NaN   \n",
       "6                                     Optics Express     NaN   \n",
       "7                                  Wellesley College     NaN   \n",
       "\n",
       "                                            citation  \\\n",
       "0  Ella M. King, Megan Engel, Caroline Martin, Sa...   \n",
       "1  Xander M. de Wit, Amelia W. Paine, Caroline Ma...   \n",
       "2  Caroline Martin, Madelyn Leembruggen, and Tayl...   \n",
       "3  Caroline Martin, Lauren E. Altman, Siddharth R...   \n",
       "4  Madelyn Leembruggen and Caroline Martin. 4/1/2...   \n",
       "5  Caroline Martin, Brian Leahy, and Vinothan N. ...   \n",
       "6  Brian Leahy, Ronald Alexander, Caroline Martin...   \n",
       "7  Caroline Martin. 6/5/2018. “Application of Bay...   \n",
       "\n",
       "                         url_slug  paper_url  \\\n",
       "0            inferring-potentials        NaN   \n",
       "1                           iscat        NaN   \n",
       "2                        wow-stem        NaN   \n",
       "3  in-line-holographic-microscopy        NaN   \n",
       "4                 whats-for-lunch        NaN   \n",
       "5            spherical-aberration        NaN   \n",
       "6             modelling-objective        NaN   \n",
       "7                    bayesian-dls        NaN   \n",
       "\n",
       "                                          slides_url  \n",
       "0  http://carolinesmartin.github.io/files/inferri...  \n",
       "1   http://carolinesmartin.github.io/files/iscat.pdf  \n",
       "2  http://carolinesmartin.github.io/files/wow-ste...  \n",
       "3  http://carolinesmartin.github.io/files/in-line...  \n",
       "4  http://carolinesmartin.github.io/files/whats-f...  \n",
       "5  http://carolinesmartin.github.io/files/spheric...  \n",
       "6  http://carolinesmartin.github.io/files/modelli...  \n",
       "7  http://carolinesmartin.github.io/files/bayesia...  "
      ]
     },
     "execution_count": 11,
     "metadata": {},
     "output_type": "execute_result"
    }
   ],
   "source": [
    "publications = pd.read_csv(\"publications.csv\", header=0)\n",
    "publications\n"
   ]
  },
  {
   "cell_type": "markdown",
   "metadata": {},
   "source": [
    "## Escape special characters\n",
    "\n",
    "YAML is very picky about how it takes a valid string, so we are replacing single and double quotes (and ampersands) with their HTML encoded equivilents. This makes them look not so readable in raw format, but they are parsed and rendered nicely."
   ]
  },
  {
   "cell_type": "code",
   "execution_count": 12,
   "metadata": {},
   "outputs": [],
   "source": [
    "html_escape_table = {\n",
    "    \"&\": \"&amp;\",\n",
    "    '\"': \"&quot;\",\n",
    "    \"'\": \"&apos;\"\n",
    "    }\n",
    "\n",
    "def html_escape(text):\n",
    "    \"\"\"Produce entities within text.\"\"\"\n",
    "    return \"\".join(html_escape_table.get(c,c) for c in text)"
   ]
  },
  {
   "cell_type": "code",
   "execution_count": 15,
   "metadata": {},
   "outputs": [
    {
     "name": "stdout",
     "output_type": "stream",
     "text": [
      "2024-06-03-inferring-potentials.md\n",
      "2023-09-20-iscat.md\n",
      "2023-05-15-wow-stem.md\n",
      "2022-10-22-in-line-holographic-microscopy.md\n",
      "2022-04-01-whats-for-lunch.md\n",
      "2021-06-07-spherical-aberration.md\n",
      "2020-01-20-modelling-objective.md\n",
      "2018-04-20-bayesian-dls.md\n"
     ]
    }
   ],
   "source": [
    "for row, item in publications.iterrows():\n",
    "    \n",
    "    md_filename = str(item.pub_date) + \"-\" + item.url_slug + \".md\"\n",
    "    html_filename = str(item.pub_date) + \"-\" + item.url_slug\n",
    "    year = item.pub_date[:4]\n",
    "    print(md_filename)"
   ]
  },
  {
   "cell_type": "markdown",
   "metadata": {},
   "source": [
    "## Creating the markdown files\n",
    "\n",
    "This is where the heavy lifting is done. This loops through all the rows in the TSV dataframe, then starts to concatentate a big string (```md```) that contains the markdown for each type. It does the YAML metadata first, then does the description for the individual page."
   ]
  },
  {
   "cell_type": "code",
   "execution_count": 16,
   "metadata": {},
   "outputs": [],
   "source": [
    "import os\n",
    "for row, item in publications.iterrows():\n",
    "    \n",
    "    md_filename = str(item.pub_date) + \"-\" + item.url_slug + \".md\"\n",
    "    html_filename = str(item.pub_date) + \"-\" + item.url_slug\n",
    "    year = item.pub_date[:4]\n",
    "    \n",
    "    ## YAML variables\n",
    "    \n",
    "    md = \"---\\ntitle: \\\"\"   + item.title + '\"\\n'\n",
    "    \n",
    "    md += \"\"\"collection: publications\"\"\"\n",
    "    \n",
    "    md += \"\"\"\\npermalink: /publication/\"\"\" + html_filename\n",
    "    \n",
    "    #if len(str(item.excerpt)) > 5:\n",
    "    #    md += \"\\nexcerpt: '\" + html_escape(item.excerpt) + \"'\"\n",
    "    \n",
    "    md += \"\\ndate: \" + str(item.pub_date) \n",
    "    \n",
    "    md += \"\\nvenue: '\" + html_escape(item.venue) + \"'\"\n",
    "    \n",
    "    if len(str(item.slides_url)) > 5:\n",
    "        md += \"\\nslidesurl: '\" + item.slides_url + \"'\"\n",
    "\n",
    "    if len(str(item.paper_url)) > 5:\n",
    "        md += \"\\npaperurl: '\" + item.paper_url + \"'\"\n",
    "    \n",
    "    md += \"\\ncitation: '\" + html_escape(item.citation) + \"'\"\n",
    "    \n",
    "    md += \"\\n---\"\n",
    "    \n",
    "    ## Markdown description for individual page\n",
    "        \n",
    "    #if len(str(item.excerpt)) > 5:\n",
    "    #    md += \"\\n\" + html_escape(item.excerpt) + \"\\n\"\n",
    "\n",
    "    if len(str(item.slides_url)) > 5:\n",
    "        md += \"\\n[Download paper here](\" + item.slides_url + \")\\n\" \n",
    "\n",
    "    #if len(str(item.paper_url)) > 5:\n",
    "    #    md += \"\\n[Download paper here](\" + item.paper_url + \")\\n\" \n",
    "        \n",
    "    md += \"\\nRecommended citation: \" + item.citation\n",
    "    \n",
    "    md_filename = os.path.basename(md_filename)\n",
    "       \n",
    "    with open(\"../_publications/\" + md_filename, 'w') as f:\n",
    "        f.write(md)"
   ]
  },
  {
   "cell_type": "markdown",
   "metadata": {},
   "source": [
    "These files are in the publications directory, one directory below where we're working from."
   ]
  },
  {
   "cell_type": "code",
   "execution_count": 17,
   "metadata": {},
   "outputs": [
    {
     "name": "stdout",
     "output_type": "stream",
     "text": [
      "2009-10-01-paper-title-number-1.md\r\n",
      "2010-10-01-paper-title-number-2.md\r\n",
      "2015-10-01-paper-title-number-3.md\r\n",
      "2018-04-20-bayesian-dls.md\r\n",
      "2020-01-20-modelling-objective.md\r\n",
      "2021-06-07-spherical-aberration.md\r\n",
      "2022-04-01-whats-for-lunch.md\r\n",
      "2022-10-22-in-line-holographic-microscopy.md\r\n",
      "2023-05-15-wow-stem.md\r\n",
      "2023-09-20-iscat.md\r\n",
      "2024-02-17-paper-title-number-4.md\r\n",
      "2024-06-03-inferring-potentials.md\r\n"
     ]
    }
   ],
   "source": [
    "!ls ../_publications/"
   ]
  },
  {
   "cell_type": "code",
   "execution_count": 18,
   "metadata": {},
   "outputs": [
    {
     "name": "stdout",
     "output_type": "stream",
     "text": [
      "---\r\n",
      "title: \"Improving holographic particle characterization by modeling spherical aberration\"\r\n",
      "collection: publications\r\n",
      "permalink: /publication/2021-06-07-spherical-aberration\r\n",
      "date: 2021-06-07\r\n",
      "venue: 'Optics Express'\r\n",
      "slidesurl: 'http://carolinesmartin.github.io/files/spherical-aberration.pdf'\r\n",
      "citation: 'Caroline Martin, Brian Leahy, and Vinothan N. Manoharan. 2021. “Improving holographic particle characterization by modeling spherical aberration.” Opt. Express, 29, 12, Pp. 18212–18223.'\r\n",
      "---\r\n",
      "[Download paper here](http://carolinesmartin.github.io/files/spherical-aberration.pdf)\r\n",
      "\r\n",
      "Recommended citation: Caroline Martin, Brian Leahy, and Vinothan N. Manoharan. 2021. “Improving holographic particle characterization by modeling spherical aberration.” Opt. Express, 29, 12, Pp. 18212–18223."
     ]
    }
   ],
   "source": [
    "!cat ../_publications/2021-06-07-spherical-aberration.md"
   ]
  },
  {
   "cell_type": "code",
   "execution_count": null,
   "metadata": {
    "collapsed": true
   },
   "outputs": [],
   "source": []
  }
 ],
 "metadata": {
  "kernelspec": {
   "display_name": "Python 3",
   "language": "python",
   "name": "python3"
  },
  "language_info": {
   "codemirror_mode": {
    "name": "ipython",
    "version": 3
   },
   "file_extension": ".py",
   "mimetype": "text/x-python",
   "name": "python",
   "nbconvert_exporter": "python",
   "pygments_lexer": "ipython3",
   "version": "3.7.9"
  }
 },
 "nbformat": 4,
 "nbformat_minor": 1
}
